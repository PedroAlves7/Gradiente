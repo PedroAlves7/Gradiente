{
  "nbformat": 4,
  "nbformat_minor": 0,
  "metadata": {
    "colab": {
      "provenance": [],
      "authorship_tag": "ABX9TyOP8s3x1UYNBv5VOYxu6PzE",
      "include_colab_link": true
    },
    "kernelspec": {
      "name": "python3",
      "display_name": "Python 3"
    },
    "language_info": {
      "name": "python"
    }
  },
  "cells": [
    {
      "cell_type": "markdown",
      "metadata": {
        "id": "view-in-github",
        "colab_type": "text"
      },
      "source": [
        "<a href=\"https://colab.research.google.com/github/PedroAlves7/Gradiente/blob/main/M%C3%A9todoGradiente.ipynb\" target=\"_parent\"><img src=\"https://colab.research.google.com/assets/colab-badge.svg\" alt=\"Open In Colab\"/></a>"
      ]
    },
    {
      "cell_type": "code",
      "execution_count": null,
      "metadata": {
        "colab": {
          "base_uri": "https://localhost:8080/"
        },
        "id": "LVycQyLHwQ0f",
        "outputId": "ef286e12-e52e-45c9-9709-dff3632b2bcb"
      },
      "outputs": [
        {
          "output_type": "stream",
          "name": "stdout",
          "text": [
            "Soluções aproximadas:\n",
            "x1 = 0.002201\n",
            "x2 = 0.002111\n",
            "x3 = 0.002104\n",
            "x4 = 0.002100\n",
            "x5 = 0.001861\n",
            "x6 = 0.001932\n",
            "x7 = 0.002011\n",
            "x8 = 0.001945\n",
            "x9 = 0.002016\n",
            "x10 = 0.002015\n"
          ]
        }
      ],
      "source": [
        "import numpy as np\n",
        "\n",
        "A = np.array([[1000, -100, -50, -50, -100, -50, -50, -100, -50, -50],\n",
        "              [-100, 1100, -100, -50, -50, -100, -50, -50, -100, -50],\n",
        "              [-50, -100, 1050, -50, -50, -100, -50, -100, -50, -50],\n",
        "              [-50, -50, -50, 1000, -100, -50, -50, -100, -50, -50],\n",
        "              [-100, -50, -50, -100, 1200, -100, -50, -50, -50, -50],\n",
        "              [-50, -100, -100, -50, -100, 1150, -50, -50, -50, -50],\n",
        "              [-50, -50, -50, -50, -50, -50, 1000, -100, -50, -50],\n",
        "              [-100, -50, -100, -50, -50, -50, -100, 1200, -100, -50],\n",
        "              [-50, -100, -50, -50, -50, -50, -50, -100, 1100, -100],\n",
        "              [-50, -50, -50, -50, -50, -50, -50, -50, -100, 1000]])\n",
        "\n",
        "b = np.ones(10)\n",
        "x0 = np.zeros(10)\n",
        "erro = 1e-6\n",
        "max_iteracoes = 10000\n",
        "xk = x0\n",
        "\n",
        "# Define a função gradiente\n",
        "def gradiente(x):\n",
        "  return (np.dot(A, x)) - b\n",
        "\n",
        "# Calcula o próximo ponto x{k+1} a partir do ponto atual xk\n",
        "for i in range(max_iteracoes):\n",
        "  r = b - (np.dot(A, xk))\n",
        "  rT = np.array(r).T\n",
        "  aux = (np.dot(rT, A))\n",
        "  alpha = (np.dot(rT, r))/(np.dot(aux, r))\n",
        "  if np.linalg.norm(gradiente(xk)) < erro:\n",
        "    break\n",
        "\n",
        "  xk = xk - alpha * gradiente(xk)\n",
        "  r = b - (np.dot(A, xk))\n",
        "\n",
        "# Executa o método gradiente com a aproximação inicial\n",
        "\n",
        "print(\"Soluções aproximadas:\")\n",
        "for i, xi in enumerate(xk):\n",
        "    print(f\"x{i+1} = {xi:.6f}\")"
      ]
    }
  ]
}